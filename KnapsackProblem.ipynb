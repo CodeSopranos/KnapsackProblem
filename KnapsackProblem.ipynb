{
 "cells": [
  {
   "cell_type": "code",
   "execution_count": 1,
   "metadata": {},
   "outputs": [],
   "source": [
    "import os \n",
    "import numpy as np\n",
    "import pandas as pd\n",
    "import importlib as imp\n",
    "\n",
    "from tqdm import tqdm, tqdm_notebook\n",
    "import warnings\n",
    "warnings.simplefilter('ignore')\n",
    "pd.options.display.max_columns = 100"
   ]
  },
  {
   "cell_type": "markdown",
   "metadata": {},
   "source": [
    "- **p01_c.txt**, the knapsack capacity. <br>\n",
    "- **p01_w.txt**, the weights of the objects. <br>\n",
    "- **p01_p.txt**, the profits of each object. <br>\n",
    "- **p01_s.txt**, the optimal selection of weights. <br>"
   ]
  },
  {
   "cell_type": "code",
   "execution_count": 90,
   "metadata": {},
   "outputs": [],
   "source": [
    "from utils import tools\n",
    "tools = imp.reload(tools)"
   ]
  },
  {
   "cell_type": "code",
   "execution_count": 3,
   "metadata": {},
   "outputs": [
    {
     "name": "stdout",
     "output_type": "stream",
     "text": [
      "01 is loaded!\n",
      "02 is loaded!\n",
      "03 is loaded!\n",
      "04 is loaded!\n",
      "05 is loaded!\n",
      "06 is loaded!\n",
      "07 is loaded!\n",
      "Wall time: 29.8 s\n"
     ]
    }
   ],
   "source": [
    "%%time\n",
    "n = np.arange(1,8)\n",
    "benchmarks = {k: tools.get_knapsack(n='0'+str(k)) for k in n}"
   ]
  },
  {
   "cell_type": "code",
   "execution_count": 22,
   "metadata": {},
   "outputs": [
    {
     "data": {
      "text/plain": [
       "{'capacity': [165],\n",
       " 'weights': [23, 31, 29, 44, 53, 38, 63, 85, 89, 82],\n",
       " 'profits': [92, 57, 49, 68, 60, 43, 67, 84, 87, 72],\n",
       " 'optimal': [1, 1, 1, 1, 0, 1, 0, 0, 0, 0]}"
      ]
     },
     "execution_count": 22,
     "metadata": {},
     "output_type": "execute_result"
    }
   ],
   "source": [
    "benchmarks[1]"
   ]
  },
  {
   "cell_type": "markdown",
   "metadata": {},
   "source": [
    "#TODO\n",
    "---\n",
    "1) **BruteForce** Простая эвристика, которая является полиномиальным решением задачи о дробном рюкзаке <br>\n",
    "2) **Dynamic**          Методом динамического программирования <br>\n",
    "3) **BoundAndBranches** Методом ветвей и границ <br>\n",
    "4) **Genetic** Генетическим алгоритмом <br>"
   ]
  },
  {
   "cell_type": "code",
   "execution_count": 185,
   "metadata": {},
   "outputs": [],
   "source": [
    "from utils import tools\n",
    "tools = imp.reload(tools)\n",
    "from algorithm import brute_force\n",
    "brute_force = imp.reload(brute_force)"
   ]
  },
  {
   "cell_type": "code",
   "execution_count": 189,
   "metadata": {},
   "outputs": [
    {
     "name": "stdout",
     "output_type": "stream",
     "text": [
      "BruteForce optimal solution [1, 0, 1, 0, 1, 0, 1, 1, 1, 0, 0, 0, 0, 1, 1]\n",
      "BruteForce optimal profit 1458\n",
      "Real optimal profit 1458\n"
     ]
    }
   ],
   "source": [
    "i = 7\n",
    "knap = benchmarks[i]\n",
    "alg   = brute_force.BruteForce(knap)\n",
    "opt = alg.solve()\n",
    "print('BruteForce optimal solution {}'.format(opt))\n",
    "print('BruteForce optimal profit {}'.format(tools.get_profit(benchmarks[i], opt)))\n",
    "print('Real optimal profit {}'.format(tools.get_profit(benchmarks[i], benchmarks[i]['optimal'])))"
   ]
  }
 ],
 "metadata": {
  "kernelspec": {
   "display_name": "Python 3",
   "language": "python",
   "name": "python3"
  },
  "language_info": {
   "codemirror_mode": {
    "name": "ipython",
    "version": 3
   },
   "file_extension": ".py",
   "mimetype": "text/x-python",
   "name": "python",
   "nbconvert_exporter": "python",
   "pygments_lexer": "ipython3",
   "version": "3.7.7"
  }
 },
 "nbformat": 4,
 "nbformat_minor": 4
}
