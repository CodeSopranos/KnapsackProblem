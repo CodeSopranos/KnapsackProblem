{
 "cells": [
  {
   "cell_type": "code",
   "execution_count": 1,
   "metadata": {},
   "outputs": [],
   "source": [
    "import os \n",
    "import numpy as np\n",
    "import pandas as pd\n",
    "import importlib as imp\n",
    "\n",
    "from tqdm import tqdm, tqdm_notebook\n",
    "import warnings\n",
    "warnings.simplefilter('ignore')\n",
    "pd.options.display.max_columns = 100"
   ]
  },
  {
   "cell_type": "markdown",
   "metadata": {},
   "source": [
    "- **p01_c.txt**, the knapsack capacity. <br>\n",
    "- **p01_w.txt**, the weights of the objects. <br>\n",
    "- **p01_p.txt**, the profits of each object. <br>\n",
    "- **p01_s.txt**, the optimal selection of weights. <br>"
   ]
  },
  {
   "cell_type": "code",
   "execution_count": 90,
   "metadata": {},
   "outputs": [],
   "source": [
    "from utils import tools\n",
    "tools = imp.reload(tools)"
   ]
  },
  {
   "cell_type": "code",
   "execution_count": 3,
   "metadata": {},
   "outputs": [
    {
     "name": "stdout",
     "output_type": "stream",
     "text": [
      "01 is loaded!\n",
      "02 is loaded!\n",
      "03 is loaded!\n",
      "04 is loaded!\n",
      "05 is loaded!\n",
      "06 is loaded!\n",
      "07 is loaded!\n",
      "Wall time: 29.8 s\n"
     ]
    }
   ],
   "source": [
    "%%time\n",
    "n = np.arange(1,8)\n",
    "benchmarks = {k: tools.get_knapsack(n='0'+str(k)) for k in n}"
   ]
  },
  {
   "cell_type": "code",
   "execution_count": 22,
   "metadata": {},
   "outputs": [
    {
     "data": {
      "text/plain": [
       "{'capacity': [165],\n",
       " 'weights': [23, 31, 29, 44, 53, 38, 63, 85, 89, 82],\n",
       " 'profits': [92, 57, 49, 68, 60, 43, 67, 84, 87, 72],\n",
       " 'optimal': [1, 1, 1, 1, 0, 1, 0, 0, 0, 0]}"
      ]
     },
     "execution_count": 22,
     "metadata": {},
     "output_type": "execute_result"
    }
   ],
   "source": [
    "benchmarks[1]"
   ]
  },
  {
   "cell_type": "code",
   "execution_count": 483,
   "metadata": {},
   "outputs": [],
   "source": [
    "from utils import tools\n",
    "tools = imp.reload(tools)\n",
    "from algorithm import brute_force\n",
    "brute_force = imp.reload(brute_force)\n",
    "from algorithm import greedy\n",
    "greedy = imp.reload(greedy)\n",
    "from algorithm import genetic\n",
    "genetic = imp.reload(genetic)\n"
   ]
  },
  {
   "cell_type": "code",
   "execution_count": 498,
   "metadata": {},
   "outputs": [
    {
     "name": "stdout",
     "output_type": "stream",
     "text": [
      "Converged\n",
      "Genetic optimal profit 1735 and weight 169\n",
      "Real optimal profit 1735 and maximum weight 169\n"
     ]
    }
   ],
   "source": [
    "i = 6\n",
    "knap = benchmarks[i]\n",
    "# alg = brute_force.BruteForce(knap)\n",
    "# alg = greedy.Greedy(knap)\n",
    "param = {'n_epoch': 5000,\n",
    "         'eps': 0.5,\n",
    "         'chaos': 20,\n",
    "         'n_chrom': 15}\n",
    "knap = dict(knap, **param)\n",
    "alg = genetic.Genetic(knap)\n",
    "opt = alg.solve()\n",
    "# print('{} optimal solution {}'.format(alg.name, opt))\n",
    "alg_knap = tools.compute_knapsack(knap, opt)\n",
    "real_knap = tools.compute_knapsack(knap, knap['optimal'])\n",
    "print('{} optimal profit {} and weight {}'.format(alg.name, alg_knap[1], alg_knap[0]))\n",
    "print('Real optimal profit {} and maximum weight {}'.format(real_knap[1],real_knap[0]))"
   ]
  }
 ],
 "metadata": {
  "kernelspec": {
   "display_name": "Python 3",
   "language": "python",
   "name": "python3"
  },
  "language_info": {
   "codemirror_mode": {
    "name": "ipython",
    "version": 3
   },
   "file_extension": ".py",
   "mimetype": "text/x-python",
   "name": "python",
   "nbconvert_exporter": "python",
   "pygments_lexer": "ipython3",
   "version": "3.7.7"
  }
 },
 "nbformat": 4,
 "nbformat_minor": 4
}
