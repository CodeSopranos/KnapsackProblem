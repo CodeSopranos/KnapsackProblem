{
 "cells": [
  {
   "cell_type": "code",
   "execution_count": 56,
   "metadata": {},
   "outputs": [],
   "source": [
    "import os \n",
    "import numpy as np\n",
    "import pandas as pd\n",
    "import importlib as imp\n",
    "\n",
    "from tqdm import tqdm, tqdm_notebook\n",
    "import warnings\n",
    "warnings.simplefilter('ignore')\n",
    "pd.options.display.max_columns = 100"
   ]
  },
  {
   "cell_type": "markdown",
   "metadata": {},
   "source": [
    "- **p01_c.txt**, the knapsack capacity. <br>\n",
    "- **p01_w.txt**, the weights of the objects. <br>\n",
    "- **p01_p.txt**, the profits of each object. <br>\n",
    "- **p01_s.txt**, the optimal selection of weights. <br>"
   ]
  },
  {
   "cell_type": "code",
   "execution_count": 50,
   "metadata": {},
   "outputs": [],
   "source": [
    "from utils import tools\n",
    "tools = imp.reload(tools)"
   ]
  },
  {
   "cell_type": "code",
   "execution_count": 51,
   "metadata": {},
   "outputs": [
    {
     "name": "stdout",
     "output_type": "stream",
     "text": [
      "01 is loaded!\n",
      "02 is loaded!\n",
      "03 is loaded!\n",
      "04 is loaded!\n",
      "05 is loaded!\n",
      "06 is loaded!\n",
      "07 is loaded!\n"
     ]
    }
   ],
   "source": [
    "%%time\n",
    "n = np.arange(1,8)\n",
    "benchmarks = {k: tools.get_knapsack(n='0'+str(k)) for k in n}"
   ]
  },
  {
   "cell_type": "code",
   "execution_count": 54,
   "metadata": {},
   "outputs": [
    {
     "data": {
      "text/plain": [
       "{'capacity': [26],\n",
       " 'weights': [12, 7, 11, 8, 9],\n",
       " 'profits': [24, 13, 23, 15, 16],\n",
       " 'optimal': [0, 1, 1, 1, 0]}"
      ]
     },
     "execution_count": 54,
     "metadata": {},
     "output_type": "execute_result"
    }
   ],
   "source": [
    "benchmarks[2]"
   ]
  },
  {
   "cell_type": "markdown",
   "metadata": {},
   "source": [
    "#TODO\n",
    "---\n",
    "1) **BruteForce** Простая эвристика, которая является полиномиальным решением задачи о дробном рюкзаке <br>\n",
    "2) **Dynamic**          Методом динамического программирования <br>\n",
    "3) **BoundAndBranches** Методом ветвей и границ <br>\n",
    "4) **Genetic** Генетическим алгоритмом <br>"
   ]
  },
  {
   "cell_type": "code",
   "execution_count": null,
   "metadata": {},
   "outputs": [],
   "source": []
  }
 ],
 "metadata": {
  "kernelspec": {
   "display_name": "Python 3",
   "language": "python",
   "name": "python3"
  },
  "language_info": {
   "codemirror_mode": {
    "name": "ipython",
    "version": 3
   },
   "file_extension": ".py",
   "mimetype": "text/x-python",
   "name": "python",
   "nbconvert_exporter": "python",
   "pygments_lexer": "ipython3",
   "version": "3.7.7"
  }
 },
 "nbformat": 4,
 "nbformat_minor": 4
}
