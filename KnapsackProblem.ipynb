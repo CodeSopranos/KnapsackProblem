{
 "cells": [
  {
   "cell_type": "code",
   "execution_count": 47,
   "metadata": {},
   "outputs": [],
   "source": [
    "import os \n",
    "import numpy as np\n",
    "import pandas as pd\n",
    "import importlib as imp\n",
    "\n",
    "from tqdm import tqdm, tqdm_notebook\n",
    "import warnings\n",
    "warnings.simplefilter('ignore')\n",
    "pd.options.display.max_columns = 100"
   ]
  },
  {
   "cell_type": "markdown",
   "metadata": {},
   "source": [
    "- **p01_c.txt**, the knapsack capacity. <br>\n",
    "- **p01_w.txt**, the weights of the objects. <br>\n",
    "- **p01_p.txt**, the profits of each object. <br>\n",
    "- **p01_s.txt**, the optimal selection of weights. <br>"
   ]
  },
  {
   "cell_type": "code",
   "execution_count": 48,
   "metadata": {},
   "outputs": [],
   "source": [
    "from utils import tools\n",
    "tools = imp.reload(tools)"
   ]
  },
  {
   "cell_type": "code",
   "execution_count": 3,
   "metadata": {},
   "outputs": [
    {
     "name": "stdout",
     "output_type": "stream",
     "text": [
      "01 is loaded!\n",
      "02 is loaded!\n",
      "03 is loaded!\n",
      "04 is loaded!\n",
      "05 is loaded!\n",
      "06 is loaded!\n",
      "07 is loaded!\n",
      "Wall time: 29.8 s\n"
     ]
    }
   ],
   "source": [
    "%%time\n",
    "n = np.arange(1,8)\n",
    "benchmarks = {k: tools.get_knapsack(n='0'+str(k)) for k in n}"
   ]
  },
  {
   "cell_type": "code",
   "execution_count": 22,
   "metadata": {},
   "outputs": [
    {
     "data": {
      "text/plain": [
       "{'capacity': [165],\n",
       " 'weights': [23, 31, 29, 44, 53, 38, 63, 85, 89, 82],\n",
       " 'profits': [92, 57, 49, 68, 60, 43, 67, 84, 87, 72],\n",
       " 'optimal': [1, 1, 1, 1, 0, 1, 0, 0, 0, 0]}"
      ]
     },
     "execution_count": 22,
     "metadata": {},
     "output_type": "execute_result"
    }
   ],
   "source": [
    "benchmarks[1]"
   ]
  },
  {
   "cell_type": "code",
   "execution_count": 252,
   "metadata": {},
   "outputs": [],
   "source": [
    "from utils import tools\n",
    "tools = imp.reload(tools)\n",
    "from algorithm import brute_force, greedy, genetic, bound_and_branches, dynamic\n",
    "brute_force = imp.reload(brute_force)\n",
    "greedy      = imp.reload(greedy)\n",
    "genetic     = imp.reload(genetic)"
   ]
  },
  {
   "cell_type": "code",
   "execution_count": 563,
   "metadata": {},
   "outputs": [
    {
     "name": "stdout",
     "output_type": "stream",
     "text": [
      "Genetic optimal profit 1735 and weight 169\n",
      "Real optimal profit 1735 and maximum weight 169\n"
     ]
    }
   ],
   "source": [
    "i = 6\n",
    "knap = benchmarks[i]\n",
    "\n",
    "param = {'n_epoch': 5000,\n",
    "         'eps': 0.5,\n",
    "         'chaos': 20,\n",
    "         'n_chrom': 15}\n",
    "knap = dict(knap, **param)\n",
    "alg = genetic.Genetic(knap)\n",
    "opt = alg.solve()\n",
    "print('{} optimal solution {}'.format(alg.name, opt))\n",
    "alg_knap = tools.compute_knapsack(knap, opt)\n",
    "real_knap = tools.compute_knapsack(knap, knap['optimal'])\n",
    "print('{} optimal profit {} and weight {}'.format(alg.name, alg_knap[1], alg_knap[0]))\n",
    "print('Real optimal profit {} and maximum weight {}'.format(real_knap[1],real_knap[0]))"
   ]
  },
  {
   "cell_type": "code",
   "execution_count": 239,
   "metadata": {},
   "outputs": [
    {
     "name": "stdout",
     "output_type": "stream",
     "text": [
      "21\n",
      "data/large_scale\\knapPI_2_10000_1000_1\n",
      "90204\n"
     ]
    },
    {
     "data": {
      "text/plain": [
       "(49877, 90204)"
      ]
     },
     "execution_count": 239,
     "metadata": {},
     "output_type": "execute_result"
    }
   ],
   "source": [
    "import glob\n",
    "tools = imp.reload(tools)\n",
    "complexity = ['low-dimensional', 'large_scale']\n",
    "h = 1\n",
    "data_lst = glob.glob('data/'+complexity[h]+'/*')\n",
    "print(len(data_lst))\n",
    "i = 7\n",
    "print(data_lst[i])\n",
    "kdct = tools.get_kdct(data_lst[i], with_optimum=True)\n",
    "with open('data/'+complexity[h]+'-optimum/'+data_lst[i].split('\\\\')[-1] ,'r') as f:\n",
    "    print(f.read())\n",
    "tools.compute_knapsack(kdct, kdct['optimal'])"
   ]
  },
  {
   "cell_type": "code",
   "execution_count": 240,
   "metadata": {},
   "outputs": [
    {
     "data": {
      "text/plain": [
       "(10000, 10000)"
      ]
     },
     "execution_count": 240,
     "metadata": {},
     "output_type": "execute_result"
    }
   ],
   "source": [
    "len(kdct['weights']), kdct['n']"
   ]
  },
  {
   "cell_type": "code",
   "execution_count": 241,
   "metadata": {},
   "outputs": [
    {
     "data": {
      "text/plain": [
       "[49877]"
      ]
     },
     "execution_count": 241,
     "metadata": {},
     "output_type": "execute_result"
    }
   ],
   "source": [
    "kdct['capacity']"
   ]
  },
  {
   "cell_type": "code",
   "execution_count": null,
   "metadata": {
    "scrolled": true
   },
   "outputs": [
    {
     "name": "stdout",
     "output_type": "stream",
     "text": [
      "Wall time: 0 ns\n",
      "Epoch 1 evolved. Test funct 0.0001\n",
      "Epoch 2 evolved. Test funct 0.0001\n",
      "Epoch 3 evolved. Test funct 0.0001\n",
      "Epoch 4 evolved. Test funct 0.0001\n",
      "Epoch 5 evolved. Test funct 0.0001\n",
      "Epoch 6 evolved. Test funct 0.0001\n",
      "Epoch 7 evolved. Test funct 0.0001\n",
      "Epoch 8 evolved. Test funct 0.0001\n",
      "Epoch 9 evolved. Test funct 0.0001\n",
      "Epoch 10 evolved. Test funct 0.0001\n",
      "Epoch 11 evolved. Test funct 0.0001\n",
      "Epoch 12 evolved. Test funct 0.0001\n",
      "Epoch 13 evolved. Test funct 0.0001\n",
      "Epoch 14 evolved. Test funct 0.0001\n",
      "Epoch 15 evolved. Test funct 0.0001\n",
      "Epoch 16 evolved. Test funct 0.0001\n",
      "Epoch 17 evolved. Test funct 0.0001\n",
      "Epoch 18 evolved. Test funct 0.0001\n",
      "Epoch 19 evolved. Test funct 0.0001\n",
      "Epoch 20 evolved. Test funct 0.0001\n",
      "Epoch 21 evolved. Test funct 0.0001\n",
      "Epoch 22 evolved. Test funct 0.0001\n",
      "Epoch 23 evolved. Test funct 0.0001\n",
      "Epoch 24 evolved. Test funct 0.0001\n",
      "Epoch 25 evolved. Test funct 0.0001\n",
      "Epoch 26 evolved. Test funct 0.0001\n",
      "Epoch 27 evolved. Test funct 0.0001\n",
      "Epoch 28 evolved. Test funct 0.0001\n",
      "Epoch 29 evolved. Test funct 0.0001\n",
      "Epoch 30 evolved. Test funct 0.0001\n",
      "Epoch 31 evolved. Test funct 0.0001\n",
      "Epoch 32 evolved. Test funct 0.0001\n",
      "Epoch 33 evolved. Test funct 0.0001\n",
      "Epoch 34 evolved. Test funct 0.0001\n",
      "Epoch 35 evolved. Test funct 0.0001\n",
      "Epoch 36 evolved. Test funct 0.0001\n",
      "Epoch 37 evolved. Test funct 0.0001\n",
      "Epoch 38 evolved. Test funct 0.0001\n",
      "Epoch 39 evolved. Test funct 0.0001\n",
      "Epoch 40 evolved. Test funct 0.0001\n",
      "Epoch 41 evolved. Test funct 0.0001\n",
      "Epoch 42 evolved. Test funct 0.0001\n",
      "Epoch 43 evolved. Test funct 0.0001\n",
      "Epoch 44 evolved. Test funct 0.0001\n",
      "Epoch 45 evolved. Test funct 0.0001\n",
      "Epoch 46 evolved. Test funct 0.0001\n",
      "Epoch 47 evolved. Test funct 0.0001\n",
      "Epoch 48 evolved. Test funct 0.0001\n",
      "Epoch 49 evolved. Test funct 0.0001\n",
      "Epoch 50 evolved. Test funct 0.0001\n",
      "Epoch 51 evolved. Test funct 0.0001\n",
      "Epoch 52 evolved. Test funct 0.0001\n",
      "Epoch 53 evolved. Test funct 0.0001\n",
      "Epoch 54 evolved. Test funct 0.0001\n",
      "Epoch 55 evolved. Test funct 0.0001\n",
      "Epoch 56 evolved. Test funct 0.0001\n",
      "Epoch 57 evolved. Test funct 0.0001\n",
      "Epoch 58 evolved. Test funct 0.0001\n",
      "Epoch 59 evolved. Test funct 0.0001\n",
      "Epoch 60 evolved. Test funct 0.0001\n",
      "Epoch 61 evolved. Test funct 0.0001\n",
      "Epoch 62 evolved. Test funct 0.0001\n",
      "Epoch 63 evolved. Test funct 0.0001\n",
      "Epoch 64 evolved. Test funct 0.0001\n",
      "Epoch 65 evolved. Test funct 0.0001\n",
      "Epoch 66 evolved. Test funct 0.0001\n",
      "Epoch 67 evolved. Test funct 0.0001\n",
      "Epoch 68 evolved. Test funct 0.0001\n",
      "Epoch 69 evolved. Test funct 0.0001\n",
      "Epoch 70 evolved. Test funct 0.0001\n",
      "Epoch 71 evolved. Test funct 0.0001\n",
      "Epoch 72 evolved. Test funct 0.0001\n",
      "Epoch 73 evolved. Test funct 0.0001\n",
      "Epoch 74 evolved. Test funct 0.0001\n",
      "Epoch 75 evolved. Test funct 0.0001\n",
      "Epoch 76 evolved. Test funct 0.0001\n",
      "Epoch 77 evolved. Test funct 0.0001\n",
      "Epoch 78 evolved. Test funct 0.0001\n",
      "Epoch 79 evolved. Test funct 0.0001\n",
      "Epoch 80 evolved. Test funct 0.0001\n",
      "Epoch 81 evolved. Test funct 0.0001\n",
      "Epoch 82 evolved. Test funct 0.0001\n",
      "Epoch 83 evolved. Test funct 0.0001\n",
      "Epoch 84 evolved. Test funct 0.0001\n",
      "Epoch 85 evolved. Test funct 0.0001\n",
      "Epoch 86 evolved. Test funct 0.0001\n",
      "Epoch 87 evolved. Test funct 0.0001\n",
      "Epoch 88 evolved. Test funct 0.0001\n",
      "Epoch 89 evolved. Test funct 0.0001\n",
      "Epoch 90 evolved. Test funct 0.0001\n",
      "Epoch 91 evolved. Test funct 0.0001\n",
      "Epoch 92 evolved. Test funct 0.0001\n",
      "Epoch 93 evolved. Test funct 0.0001\n",
      "Epoch 94 evolved. Test funct 0.0001\n",
      "Epoch 95 evolved. Test funct 0.0001\n",
      "Epoch 96 evolved. Test funct 0.0001\n",
      "Epoch 97 evolved. Test funct 0.0001\n",
      "Epoch 98 evolved. Test funct 0.0001\n",
      "Epoch 99 evolved. Test funct 0.0001\n",
      "Epoch 100 evolved. Test funct 0.0001\n",
      "Epoch 101 evolved. Test funct 0.0001\n",
      "Epoch 102 evolved. Test funct 0.0001\n",
      "Epoch 103 evolved. Test funct 0.0001\n",
      "Epoch 104 evolved. Test funct 0.0001\n",
      "Epoch 105 evolved. Test funct 0.0001\n",
      "Epoch 106 evolved. Test funct 0.0001\n",
      "Epoch 107 evolved. Test funct 0.0001\n",
      "Epoch 108 evolved. Test funct 0.0001\n",
      "Epoch 109 evolved. Test funct 0.0001\n",
      "Epoch 110 evolved. Test funct 0.0001\n",
      "Epoch 111 evolved. Test funct 0.0001\n",
      "Epoch 112 evolved. Test funct 0.0001\n",
      "Epoch 113 evolved. Test funct 0.0001\n",
      "Epoch 114 evolved. Test funct 0.0001\n",
      "Epoch 115 evolved. Test funct 0.0001\n",
      "Epoch 116 evolved. Test funct 0.0001\n",
      "Epoch 117 evolved. Test funct 0.0001\n",
      "Epoch 118 evolved. Test funct 0.0001\n",
      "Epoch 119 evolved. Test funct 0.0001\n",
      "Epoch 120 evolved. Test funct 0.0001\n",
      "Epoch 121 evolved. Test funct 0.0001\n",
      "Epoch 122 evolved. Test funct 0.0001\n",
      "Epoch 123 evolved. Test funct 0.0001\n",
      "Epoch 124 evolved. Test funct 0.0001\n",
      "Epoch 125 evolved. Test funct 0.0001\n",
      "Epoch 126 evolved. Test funct 0.0001\n",
      "Epoch 127 evolved. Test funct 0.0001\n",
      "Epoch 128 evolved. Test funct 0.0001\n",
      "Epoch 129 evolved. Test funct 0.0001\n",
      "Epoch 130 evolved. Test funct 0.0001\n",
      "Epoch 131 evolved. Test funct 0.0001\n",
      "Epoch 132 evolved. Test funct 0.0001\n",
      "Epoch 133 evolved. Test funct 0.0001\n",
      "Epoch 134 evolved. Test funct 0.0001\n",
      "Epoch 135 evolved. Test funct 0.0001\n",
      "Epoch 136 evolved. Test funct 0.0001\n",
      "Epoch 137 evolved. Test funct 0.0001\n",
      "Epoch 138 evolved. Test funct 0.0001\n",
      "Epoch 139 evolved. Test funct 0.0001\n",
      "Epoch 140 evolved. Test funct 0.0001\n",
      "Epoch 141 evolved. Test funct 0.0001\n",
      "Epoch 142 evolved. Test funct 0.0001\n",
      "Epoch 143 evolved. Test funct 0.0001\n",
      "Epoch 144 evolved. Test funct 0.0001\n",
      "Epoch 145 evolved. Test funct 0.0001\n",
      "Epoch 146 evolved. Test funct 0.0001\n",
      "Epoch 147 evolved. Test funct 0.0001\n",
      "Epoch 148 evolved. Test funct 0.0001\n",
      "Epoch 149 evolved. Test funct 0.0001\n",
      "Epoch 150 evolved. Test funct 0.0001\n",
      "Epoch 151 evolved. Test funct 0.0001\n",
      "Epoch 152 evolved. Test funct 0.0001\n",
      "Epoch 153 evolved. Test funct 0.0001\n",
      "Epoch 154 evolved. Test funct 0.0001\n",
      "Epoch 155 evolved. Test funct 0.0001\n",
      "Epoch 156 evolved. Test funct 0.0001\n",
      "Epoch 157 evolved. Test funct 0.0001\n",
      "Epoch 158 evolved. Test funct 0.0001\n",
      "Epoch 159 evolved. Test funct 0.0001\n",
      "Epoch 160 evolved. Test funct 0.0001\n",
      "Epoch 161 evolved. Test funct 0.0001\n",
      "Epoch 162 evolved. Test funct 0.0001\n",
      "Epoch 163 evolved. Test funct 0.0001\n",
      "Epoch 164 evolved. Test funct 0.0001\n",
      "Epoch 165 evolved. Test funct 0.0001\n",
      "Epoch 166 evolved. Test funct 0.0001\n",
      "Epoch 167 evolved. Test funct 0.0001\n",
      "Epoch 168 evolved. Test funct 0.0001\n",
      "Epoch 169 evolved. Test funct 0.0001\n",
      "Epoch 170 evolved. Test funct 0.0001\n",
      "Epoch 171 evolved. Test funct 0.0001\n",
      "Epoch 172 evolved. Test funct 0.0001\n",
      "Epoch 173 evolved. Test funct 0.0001\n",
      "Epoch 174 evolved. Test funct 0.0001\n",
      "Epoch 175 evolved. Test funct 0.0001\n",
      "Epoch 176 evolved. Test funct 0.0001\n",
      "Epoch 177 evolved. Test funct 0.0001\n",
      "Epoch 178 evolved. Test funct 0.0001\n",
      "Epoch 179 evolved. Test funct 0.0001\n",
      "Epoch 180 evolved. Test funct 0.0001\n",
      "Epoch 181 evolved. Test funct 0.0001\n",
      "Epoch 182 evolved. Test funct 0.0001\n",
      "Epoch 183 evolved. Test funct 0.0001\n",
      "Epoch 184 evolved. Test funct 0.0001\n",
      "Epoch 185 evolved. Test funct 0.0001\n",
      "Epoch 186 evolved. Test funct 0.0001\n",
      "Epoch 187 evolved. Test funct 0.0001\n",
      "Epoch 188 evolved. Test funct 0.0001\n",
      "Epoch 189 evolved. Test funct 0.0001\n",
      "Epoch 190 evolved. Test funct 0.0001\n",
      "Epoch 191 evolved. Test funct 0.0001\n",
      "Epoch 192 evolved. Test funct 0.0001\n",
      "Epoch 193 evolved. Test funct 0.0001\n",
      "Epoch 194 evolved. Test funct 0.0001\n",
      "Epoch 195 evolved. Test funct 0.0001\n",
      "Epoch 196 evolved. Test funct 0.0001\n",
      "Epoch 197 evolved. Test funct 0.0001\n",
      "Epoch 198 evolved. Test funct 0.0001\n",
      "Epoch 199 evolved. Test funct 0.0001\n",
      "Epoch 200 evolved. Test funct 0.0001\n",
      "Epoch 201 evolved. Test funct 0.0001\n",
      "Epoch 202 evolved. Test funct 0.0001\n",
      "Epoch 203 evolved. Test funct 0.0001\n",
      "Epoch 204 evolved. Test funct 0.0001\n",
      "Epoch 205 evolved. Test funct 0.0001\n",
      "Epoch 206 evolved. Test funct 0.0001\n",
      "Epoch 207 evolved. Test funct 0.0001\n",
      "Epoch 208 evolved. Test funct 0.0001\n",
      "Epoch 209 evolved. Test funct 0.0001\n",
      "Epoch 210 evolved. Test funct 0.0001\n",
      "Epoch 211 evolved. Test funct 0.0001\n",
      "Epoch 212 evolved. Test funct 0.0001\n",
      "Epoch 213 evolved. Test funct 0.0001\n",
      "Epoch 214 evolved. Test funct 0.0001\n",
      "Epoch 215 evolved. Test funct 0.0001\n",
      "Epoch 216 evolved. Test funct 0.0001\n",
      "Epoch 217 evolved. Test funct 0.0001\n",
      "Epoch 218 evolved. Test funct 0.0001\n",
      "Epoch 219 evolved. Test funct 0.0001\n",
      "Epoch 220 evolved. Test funct 0.0001\n",
      "Epoch 221 evolved. Test funct 0.0001\n",
      "Epoch 222 evolved. Test funct 0.0001\n",
      "Epoch 223 evolved. Test funct 0.0001\n"
     ]
    },
    {
     "name": "stdout",
     "output_type": "stream",
     "text": [
      "Epoch 224 evolved. Test funct 0.0001\n"
     ]
    }
   ],
   "source": [
    "%time\n",
    "genetic = imp.reload(genetic)\n",
    "param = {'n_epoch': 1000,\n",
    "         'eps': 0.5,\n",
    "         'chaos': 50,\n",
    "         'n_chrom': 5}\n",
    "kdct = dict(kdct, **param)\n",
    "alg = genetic.Genetic(kdct)\n",
    "alg.set_verbose()\n",
    "opt = alg.solve()"
   ]
  },
  {
   "cell_type": "code",
   "execution_count": 245,
   "metadata": {},
   "outputs": [
    {
     "data": {
      "text/plain": [
       "(48736, 48478)"
      ]
     },
     "execution_count": 245,
     "metadata": {},
     "output_type": "execute_result"
    }
   ],
   "source": [
    "tools.compute_knapsack(kdct, opt)"
   ]
  },
  {
   "cell_type": "code",
   "execution_count": null,
   "metadata": {},
   "outputs": [],
   "source": []
  },
  {
   "cell_type": "code",
   "execution_count": 218,
   "metadata": {},
   "outputs": [],
   "source": [
    "chrom = [1, 0,1, 0, 1,0,0,0,0,1]\n",
    "a = np.array(chrom) "
   ]
  },
  {
   "cell_type": "code",
   "execution_count": 221,
   "metadata": {},
   "outputs": [
    {
     "data": {
      "text/plain": [
       "array([ True, False,  True, False,  True, False, False, False, False,\n",
       "        True])"
      ]
     },
     "execution_count": 221,
     "metadata": {},
     "output_type": "execute_result"
    }
   ],
   "source": [
    "a==1"
   ]
  },
  {
   "cell_type": "code",
   "execution_count": 229,
   "metadata": {},
   "outputs": [
    {
     "data": {
      "text/plain": [
       "[9, 4]"
      ]
     },
     "execution_count": 229,
     "metadata": {},
     "output_type": "execute_result"
    }
   ],
   "source": [
    "\n",
    "print('Indexes of all occurrences of a \"Ok\" in the list are : ', indexes)"
   ]
  },
  {
   "cell_type": "code",
   "execution_count": null,
   "metadata": {
    "scrolled": false
   },
   "outputs": [],
   "source": [
    "import pprint\n",
    "for key in benchmarks:\n",
    "    \n",
    "    knapsack = benchmarks[key]\n",
    "    z = 30\n",
    "    opt_w, opt_p = tools.compute_knapsack(knapsack, knapsack['optimal'])\n",
    "    print('--- \\n')\n",
    "    print('\\n' + '## Knapsack 0{}'.format(key))\n",
    "    print(' - capacity: *{}*<br>'.format(knapsack['capacity'][0]))\n",
    "    print(' - optimal solution: ```{}```<br>'.format(knapsack['optimal']))\n",
    "    print(' - optimal weight: *{}*, and profit: *{}*<br>'.format(opt_w, opt_p))\n",
    "\n",
    "    param = {'n_epoch': 5000,\n",
    "             'eps': 0.5,\n",
    "             'chaos': 20,\n",
    "             'n_chrom': 15}\n",
    "    algorithms = [brute_force.BruteForce,\n",
    "                  greedy.Greedy,\n",
    "                  bound_and_branches.BranchAndBound,\n",
    "                  dynamic.Dynamic,\n",
    "                  genetic.Genetic]\n",
    "    for alg in algorithms:\n",
    "        knapsack = dict(knapsack, **param)\n",
    "        alg     = alg(knapsack)\n",
    "        alg_opt = alg.solve()\n",
    "        alg_opt_w, alg_opt_p = tools.compute_knapsack(knapsack, alg_opt)\n",
    "        print('   **{}** optimal solution: ```{}```<br>'.format(alg.name, alg_opt))\n",
    "        print('          optimal weight: {}, and profit **{}**'.format(alg_opt_w, alg_opt_p))\n",
    "\n"
   ]
  },
  {
   "cell_type": "code",
   "execution_count": 68,
   "metadata": {},
   "outputs": [],
   "source": [
    "# kdct"
   ]
  },
  {
   "cell_type": "code",
   "execution_count": 66,
   "metadata": {},
   "outputs": [
    {
     "data": {
      "text/plain": [
       "(49877, 563647)"
      ]
     },
     "execution_count": 66,
     "metadata": {},
     "output_type": "execute_result"
    }
   ],
   "source": [
    "\n"
   ]
  },
  {
   "cell_type": "code",
   "execution_count": 39,
   "metadata": {},
   "outputs": [
    {
     "data": {
      "text/plain": [
       "10000"
      ]
     },
     "execution_count": 39,
     "metadata": {},
     "output_type": "execute_result"
    }
   ],
   "source": [
    "len(weights)"
   ]
  },
  {
   "cell_type": "code",
   "execution_count": 564,
   "metadata": {},
   "outputs": [],
   "source": [
    "genetic_param = {'n_epoch': 500,\n",
    "                 'eps': 0.3,\n",
    "                 'chaos': 20,\n",
    "                 'n_chrom': 15}\n",
    "\n",
    "algorithms = [brute_force.BruteForce,\n",
    "              greedy.Greedy,\n",
    "              bound_and_branches.BranchAndBound,\n",
    "              dynamic.Dynamic,\n",
    "              genetic.Genetic]\n",
    "\n",
    "alg_params = [{},\n",
    "              {},\n",
    "              {},\n",
    "              {},\n",
    "              genetic_param]\n",
    "\n",
    "\n",
    "stat_df = tools.generate_stat(algorithms, \n",
    "                        benchmarks, \n",
    "                        alg_params, \n",
    "                        n_observations=5)"
   ]
  },
  {
   "cell_type": "code",
   "execution_count": 595,
   "metadata": {
    "scrolled": false
   },
   "outputs": [
    {
     "name": "stdout",
     "output_type": "stream",
     "text": [
      "|   benchmark | algorithm        |   execution mean |   execution std |   capacity |   optim_weight |   optim_profit |\n",
      "|------------:|:-----------------|-----------------:|----------------:|-----------:|---------------:|---------------:|\n",
      "|           1 | Branch-And-Bound |           0      |          0      |        165 |            165 |            309 |\n",
      "|           1 | BruteForce       |           0.0016 |          0.0005 |        165 |            165 |            309 |\n",
      "|           1 | Dynamic          |           0.006  |          0.0007 |        165 |            165 |            309 |\n",
      "|           1 | Genetic          |           0.0145 |          0.0089 |        165 |            165 |            309 |\n",
      "|           1 | Greedy           |           0      |          0      |        165 |            165 |            309 |\n",
      "|           2 | Branch-And-Bound |           0      |          0      |         26 |             26 |             51 |\n",
      "|           2 | BruteForce       |           0      |          0      |         26 |             26 |             51 |\n",
      "|           2 | Dynamic          |           0.0006 |          0.0005 |         26 |             26 |             51 |\n",
      "|           2 | Genetic          |           0.0004 |          0.0005 |         26 |             24 |             47 |\n",
      "|           2 | Greedy           |           0      |          0      |         26 |             23 |             47 |\n",
      "|           3 | Branch-And-Bound |           0.0002 |          0.0005 |        190 |            190 |            150 |\n",
      "|           3 | BruteForce       |           0      |          0      |        190 |            190 |            150 |\n",
      "|           3 | Dynamic          |           0.0044 |          0.0006 |        190 |            190 |            150 |\n",
      "|           3 | Genetic          |           0.0004 |          0.0005 |        190 |            172 |            119 |\n",
      "|           3 | Greedy           |           0      |          0      |        190 |            179 |            146 |\n",
      "|           4 | Branch-And-Bound |           0      |          0      |         50 |             50 |            107 |\n",
      "|           4 | BruteForce       |           0.0006 |          0.0005 |         50 |             50 |            107 |\n",
      "|           4 | Dynamic          |           0.0012 |          0.0004 |         50 |             50 |            107 |\n",
      "|           4 | Genetic          |           0.0014 |          0.0009 |         50 |             50 |            107 |\n",
      "|           4 | Greedy           |           0      |          0      |         50 |             48 |            102 |\n",
      "|           5 | Branch-And-Bound |           0      |          0      |        104 |            104 |            900 |\n",
      "|           5 | BruteForce       |           0.0004 |          0.0005 |        104 |            104 |            900 |\n",
      "|           5 | Dynamic          |           0.0038 |          0.0008 |        104 |            104 |            900 |\n",
      "|           5 | Genetic          |           0.0032 |          0.0008 |        104 |            103 |            898 |\n",
      "|           5 | Greedy           |           0      |          0      |        104 |             97 |            858 |\n",
      "|           6 | Branch-And-Bound |           0.0002 |          0.0004 |        170 |            169 |           1735 |\n",
      "|           6 | BruteForce       |           0.0002 |          0.0005 |        170 |            169 |           1735 |\n",
      "|           6 | Dynamic          |           0.0052 |          0.0008 |        170 |            169 |           1735 |\n",
      "|           6 | Genetic          |           0.001  |          0.0007 |        170 |            169 |           1735 |\n",
      "|           6 | Greedy           |           0      |          0      |        170 |            140 |           1478 |\n",
      "|           7 | Branch-And-Bound |           0.0042 |          0.0008 |        750 |            749 |           1458 |\n",
      "|           7 | BruteForce       |           0.0541 |          0.0147 |        750 |            749 |           1458 |\n",
      "|           7 | Dynamic          |           0.058  |          0.0047 |        750 |            749 |           1458 |\n",
      "|           7 | Genetic          |           0.306  |          0.0365 |        750 |            749 |           1458 |\n",
      "|           7 | Greedy           |           0.0002 |          0.0004 |        750 |            740 |           1441 |\n"
     ]
    }
   ],
   "source": [
    "stat = stat_df.groupby(['benchmark', 'algorithm']).agg({'execution':['mean','std'],\n",
    "                                                        'capacity': 'median',\n",
    "                                                        'optim_weight': 'median',\n",
    "                                                        'optim_profit': 'median'})\n",
    "stat.columns = [ 'execution mean', 'execution std', 'capacity','optim_weight', 'optim_profit']\n",
    "stat = np.around(stat, 4).reset_index()\n",
    "stat = stat.set_index(['benchmark'])\n",
    "print(stat.to_markdown())"
   ]
  }
 ],
 "metadata": {
  "kernelspec": {
   "display_name": "Python 3",
   "language": "python",
   "name": "python3"
  },
  "language_info": {
   "codemirror_mode": {
    "name": "ipython",
    "version": 3
   },
   "file_extension": ".py",
   "mimetype": "text/x-python",
   "name": "python",
   "nbconvert_exporter": "python",
   "pygments_lexer": "ipython3",
   "version": "3.7.7"
  }
 },
 "nbformat": 4,
 "nbformat_minor": 4
}
