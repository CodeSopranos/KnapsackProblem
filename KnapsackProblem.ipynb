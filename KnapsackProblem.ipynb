{
 "cells": [
  {
   "cell_type": "code",
   "execution_count": 1,
   "metadata": {},
   "outputs": [],
   "source": [
    "import os \n",
    "import numpy as np\n",
    "import pandas as pd\n",
    "import importlib as imp\n",
    "\n",
    "from tqdm import tqdm, tqdm_notebook\n",
    "import warnings\n",
    "warnings.simplefilter('ignore')\n",
    "pd.options.display.max_columns = 100"
   ]
  },
  {
   "cell_type": "markdown",
   "metadata": {},
   "source": [
    "- **p01_c.txt**, the knapsack capacity. <br>\n",
    "- **p01_w.txt**, the weights of the objects. <br>\n",
    "- **p01_p.txt**, the profits of each object. <br>\n",
    "- **p01_s.txt**, the optimal selection of weights. <br>"
   ]
  },
  {
   "cell_type": "code",
   "execution_count": 90,
   "metadata": {},
   "outputs": [],
   "source": [
    "from utils import tools\n",
    "tools = imp.reload(tools)"
   ]
  },
  {
   "cell_type": "code",
   "execution_count": 3,
   "metadata": {},
   "outputs": [
    {
     "name": "stdout",
     "output_type": "stream",
     "text": [
      "01 is loaded!\n",
      "02 is loaded!\n",
      "03 is loaded!\n",
      "04 is loaded!\n",
      "05 is loaded!\n",
      "06 is loaded!\n",
      "07 is loaded!\n",
      "Wall time: 29.8 s\n"
     ]
    }
   ],
   "source": [
    "%%time\n",
    "n = np.arange(1,8)\n",
    "benchmarks = {k: tools.get_knapsack(n='0'+str(k)) for k in n}"
   ]
  },
  {
   "cell_type": "code",
   "execution_count": 22,
   "metadata": {},
   "outputs": [
    {
     "data": {
      "text/plain": [
       "{'capacity': [165],\n",
       " 'weights': [23, 31, 29, 44, 53, 38, 63, 85, 89, 82],\n",
       " 'profits': [92, 57, 49, 68, 60, 43, 67, 84, 87, 72],\n",
       " 'optimal': [1, 1, 1, 1, 0, 1, 0, 0, 0, 0]}"
      ]
     },
     "execution_count": 22,
     "metadata": {},
     "output_type": "execute_result"
    }
   ],
   "source": [
    "benchmarks[1]"
   ]
  },
  {
   "cell_type": "code",
   "execution_count": 562,
   "metadata": {},
   "outputs": [],
   "source": [
    "from utils import tools\n",
    "tools = imp.reload(tools)\n",
    "from algorithm import brute_force, greedy, genetic, bound_and_branches, dynamic\n",
    "brute_force = imp.reload(brute_force)\n",
    "greedy      = imp.reload(greedy)\n",
    "genetic     = imp.reload(genetic)"
   ]
  },
  {
   "cell_type": "code",
   "execution_count": 563,
   "metadata": {},
   "outputs": [
    {
     "name": "stdout",
     "output_type": "stream",
     "text": [
      "Genetic optimal profit 1735 and weight 169\n",
      "Real optimal profit 1735 and maximum weight 169\n"
     ]
    }
   ],
   "source": [
    "i = 6\n",
    "knap = benchmarks[i]\n",
    "\n",
    "param = {'n_epoch': 5000,\n",
    "         'eps': 0.5,\n",
    "         'chaos': 20,\n",
    "         'n_chrom': 15}\n",
    "knap = dict(knap, **param)\n",
    "alg = genetic.Genetic(knap)\n",
    "opt = alg.solve()\n",
    "print('{} optimal solution {}'.format(alg.name, opt))\n",
    "alg_knap = tools.compute_knapsack(knap, opt)\n",
    "real_knap = tools.compute_knapsack(knap, knap['optimal'])\n",
    "print('{} optimal profit {} and weight {}'.format(alg.name, alg_knap[1], alg_knap[0]))\n",
    "print('Real optimal profit {} and maximum weight {}'.format(real_knap[1],real_knap[0]))"
   ]
  },
  {
   "cell_type": "code",
   "execution_count": 603,
   "metadata": {
    "scrolled": false
   },
   "outputs": [
    {
     "name": "stdout",
     "output_type": "stream",
     "text": [
      "--- \n",
      "\n",
      "\n",
      "## Knapsack 01\n",
      " - capacity: *165*<br>\n",
      " - optimal solution: ```[1, 1, 1, 1, 0, 1, 0, 0, 0, 0]```<br>\n",
      " - optimal weight: *165*, and profit: *309*<br>\n",
      "   **BruteForce** optimal solution: ```[1, 1, 1, 1, 0, 1, 0, 0, 0, 0]```<br>\n",
      "          optimal weight: 165, and profit **309**\n",
      "   **Greedy** optimal solution: ```[1, 1, 1, 1, 0, 1, 0, 0, 0, 0]```<br>\n",
      "          optimal weight: 165, and profit **309**\n",
      "   **Branch-And-Bound** optimal solution: ```[1, 1, 1, 1, 0, 1, 0, 0, 0, 0]```<br>\n",
      "          optimal weight: 165, and profit **309**\n",
      "   **Dynamic** optimal solution: ```[1, 1, 1, 1, 0, 1, 0, 0, 0, 0]```<br>\n",
      "          optimal weight: 165, and profit **309**\n",
      "   **Genetic** optimal solution: ```[1, 1, 1, 1, 0, 1, 0, 0, 0, 0]```<br>\n",
      "          optimal weight: 165, and profit **309**\n",
      "--- \n",
      "\n",
      "\n",
      "## Knapsack 02\n",
      " - capacity: *26*<br>\n",
      " - optimal solution: ```[0, 1, 1, 1, 0]```<br>\n",
      " - optimal weight: *26*, and profit: *51*<br>\n",
      "   **BruteForce** optimal solution: ```[0, 1, 1, 1, 0]```<br>\n",
      "          optimal weight: 26, and profit **51**\n",
      "   **Greedy** optimal solution: ```[1, 0, 1, 0, 0]```<br>\n",
      "          optimal weight: 23, and profit **47**\n",
      "   **Branch-And-Bound** optimal solution: ```[0, 1, 1, 1, 0]```<br>\n",
      "          optimal weight: 26, and profit **51**\n",
      "   **Dynamic** optimal solution: ```[0, 1, 1, 1, 0]```<br>\n",
      "          optimal weight: 26, and profit **51**\n",
      "   **Genetic** optimal solution: ```[0, 1, 1, 1, 0]```<br>\n",
      "          optimal weight: 26, and profit **51**\n",
      "--- \n",
      "\n",
      "\n",
      "## Knapsack 03\n",
      " - capacity: *190*<br>\n",
      " - optimal solution: ```[1, 1, 0, 0, 1, 0]```<br>\n",
      " - optimal weight: *190*, and profit: *150*<br>\n",
      "   **BruteForce** optimal solution: ```[1, 1, 0, 0, 1, 0]```<br>\n",
      "          optimal weight: 190, and profit **150**\n",
      "   **Greedy** optimal solution: ```[1, 1, 0, 1, 0, 0]```<br>\n",
      "          optimal weight: 179, and profit **146**\n",
      "   **Branch-And-Bound** optimal solution: ```[1, 1, 0, 0, 1, 0]```<br>\n",
      "          optimal weight: 190, and profit **150**\n",
      "   **Dynamic** optimal solution: ```[1, 1, 0, 0, 1, 0]```<br>\n",
      "          optimal weight: 190, and profit **150**\n",
      "   **Genetic** optimal solution: ```[1, 0, 1, 0, 0, 1]```<br>\n",
      "          optimal weight: 153, and profit **119**\n",
      "--- \n",
      "\n",
      "\n",
      "## Knapsack 04\n",
      " - capacity: *50*<br>\n",
      " - optimal solution: ```[1, 0, 0, 1, 0, 0, 0]```<br>\n",
      " - optimal weight: *50*, and profit: *107*<br>\n",
      "   **BruteForce** optimal solution: ```[1, 0, 0, 1, 0, 0, 0]```<br>\n",
      "          optimal weight: 50, and profit **107**\n",
      "   **Greedy** optimal solution: ```[1, 1, 0, 0, 1, 1, 0]```<br>\n",
      "          optimal weight: 48, and profit **102**\n",
      "   **Branch-And-Bound** optimal solution: ```[1, 0, 0, 1, 0, 0, 0]```<br>\n",
      "          optimal weight: 50, and profit **107**\n",
      "   **Dynamic** optimal solution: ```[1, 0, 0, 1, 0, 0, 0]```<br>\n",
      "          optimal weight: 50, and profit **107**\n",
      "   **Genetic** optimal solution: ```[1, 1, 0, 0, 0, 1, 1]```<br>\n",
      "          optimal weight: 50, and profit **105**\n",
      "--- \n",
      "\n",
      "\n",
      "## Knapsack 05\n",
      " - capacity: *104*<br>\n",
      " - optimal solution: ```[1, 0, 1, 1, 1, 0, 1, 1]```<br>\n",
      " - optimal weight: *104*, and profit: *900*<br>\n",
      "   **BruteForce** optimal solution: ```[1, 0, 1, 1, 1, 0, 1, 1]```<br>\n",
      "          optimal weight: 104, and profit **900**\n",
      "   **Greedy** optimal solution: ```[1, 1, 0, 1, 1, 1, 1, 1]```<br>\n",
      "          optimal weight: 97, and profit **858**\n",
      "   **Branch-And-Bound** optimal solution: ```[1, 0, 1, 1, 1, 0, 1, 1]```<br>\n",
      "          optimal weight: 104, and profit **900**\n",
      "   **Dynamic** optimal solution: ```[1, 0, 1, 1, 1, 0, 1, 1]```<br>\n",
      "          optimal weight: 104, and profit **900**\n",
      "   **Genetic** optimal solution: ```[1, 0, 1, 1, 1, 0, 1, 1]```<br>\n",
      "          optimal weight: 104, and profit **900**\n",
      "--- \n",
      "\n",
      "\n",
      "## Knapsack 06\n",
      " - capacity: *170*<br>\n",
      " - optimal solution: ```[0, 1, 0, 1, 0, 0, 1]```<br>\n",
      " - optimal weight: *169*, and profit: *1735*<br>\n",
      "   **BruteForce** optimal solution: ```[0, 1, 0, 1, 0, 0, 1]```<br>\n",
      "          optimal weight: 169, and profit **1735**\n",
      "   **Greedy** optimal solution: ```[1, 1, 1, 0, 0, 0, 0]```<br>\n",
      "          optimal weight: 140, and profit **1478**\n",
      "   **Branch-And-Bound** optimal solution: ```[0, 1, 0, 1, 0, 0, 1]```<br>\n",
      "          optimal weight: 169, and profit **1735**\n",
      "   **Dynamic** optimal solution: ```[0, 1, 0, 1, 0, 0, 1]```<br>\n",
      "          optimal weight: 169, and profit **1735**\n",
      "   **Genetic** optimal solution: ```[0, 1, 0, 1, 0, 0, 1]```<br>\n",
      "          optimal weight: 169, and profit **1735**\n",
      "--- \n",
      "\n",
      "\n",
      "## Knapsack 07\n",
      " - capacity: *750*<br>\n",
      " - optimal solution: ```[1, 0, 1, 0, 1, 0, 1, 1, 1, 0, 0, 0, 0, 1, 1]```<br>\n",
      " - optimal weight: *749*, and profit: *1458*<br>\n",
      "   **BruteForce** optimal solution: ```[1, 0, 1, 0, 1, 0, 1, 1, 1, 0, 0, 0, 0, 1, 1]```<br>\n",
      "          optimal weight: 749, and profit **1458**\n",
      "   **Greedy** optimal solution: ```[1, 1, 1, 0, 0, 0, 1, 1, 1, 0, 0, 0, 0, 1, 1]```<br>\n",
      "          optimal weight: 740, and profit **1441**\n",
      "   **Branch-And-Bound** optimal solution: ```[1, 0, 1, 0, 1, 0, 1, 1, 1, 0, 0, 0, 0, 1, 1]```<br>\n",
      "          optimal weight: 749, and profit **1458**\n",
      "   **Dynamic** optimal solution: ```[1, 0, 1, 0, 1, 0, 1, 1, 1, 0, 0, 0, 0, 1, 1]```<br>\n",
      "          optimal weight: 749, and profit **1458**\n",
      "   **Genetic** optimal solution: ```[1, 0, 1, 0, 1, 0, 1, 1, 1, 0, 0, 0, 0, 1, 1]```<br>\n",
      "          optimal weight: 749, and profit **1458**\n"
     ]
    }
   ],
   "source": [
    "import pprint\n",
    "for key in benchmarks:\n",
    "    \n",
    "    knapsack = benchmarks[key]\n",
    "    z = 30\n",
    "    opt_w, opt_p = tools.compute_knapsack(knapsack, knapsack['optimal'])\n",
    "    print('--- \\n')\n",
    "    print('\\n' + '## Knapsack 0{}'.format(key))\n",
    "    print(' - capacity: *{}*<br>'.format(knapsack['capacity'][0]))\n",
    "    print(' - optimal solution: ```{}```<br>'.format(knapsack['optimal']))\n",
    "    print(' - optimal weight: *{}*, and profit: *{}*<br>'.format(opt_w, opt_p))\n",
    "\n",
    "    param = {'n_epoch': 5000,\n",
    "             'eps': 0.5,\n",
    "             'chaos': 20,\n",
    "             'n_chrom': 15}\n",
    "    algorithms = [brute_force.BruteForce,\n",
    "                  greedy.Greedy,\n",
    "                  bound_and_branches.BranchAndBound,\n",
    "                  dynamic.Dynamic,\n",
    "                  genetic.Genetic]\n",
    "    for alg in algorithms:\n",
    "        knapsack = dict(knapsack, **param)\n",
    "        alg     = alg(knapsack)\n",
    "        alg_opt = alg.solve()\n",
    "        alg_opt_w, alg_opt_p = tools.compute_knapsack(knapsack, alg_opt)\n",
    "        print('   **{}** optimal solution: ```{}```<br>'.format(alg.name, alg_opt))\n",
    "        print('          optimal weight: {}, and profit **{}**'.format(alg_opt_w, alg_opt_p))\n",
    "\n"
   ]
  },
  {
   "cell_type": "code",
   "execution_count": 564,
   "metadata": {},
   "outputs": [],
   "source": [
    "genetic_param = {'n_epoch': 500,\n",
    "                 'eps': 0.3,\n",
    "                 'chaos': 20,\n",
    "                 'n_chrom': 15}\n",
    "\n",
    "algorithms = [brute_force.BruteForce,\n",
    "              greedy.Greedy,\n",
    "              bound_and_branches.BranchAndBound,\n",
    "              dynamic.Dynamic,\n",
    "              genetic.Genetic]\n",
    "\n",
    "alg_params = [{},\n",
    "              {},\n",
    "              {},\n",
    "              {},\n",
    "              genetic_param]\n",
    "\n",
    "\n",
    "stat_df = tools.generate_stat(algorithms, \n",
    "                        benchmarks, \n",
    "                        alg_params, \n",
    "                        n_observations=5)"
   ]
  },
  {
   "cell_type": "code",
   "execution_count": 595,
   "metadata": {
    "scrolled": false
   },
   "outputs": [
    {
     "name": "stdout",
     "output_type": "stream",
     "text": [
      "|   benchmark | algorithm        |   execution mean |   execution std |   capacity |   optim_weight |   optim_profit |\n",
      "|------------:|:-----------------|-----------------:|----------------:|-----------:|---------------:|---------------:|\n",
      "|           1 | Branch-And-Bound |           0      |          0      |        165 |            165 |            309 |\n",
      "|           1 | BruteForce       |           0.0016 |          0.0005 |        165 |            165 |            309 |\n",
      "|           1 | Dynamic          |           0.006  |          0.0007 |        165 |            165 |            309 |\n",
      "|           1 | Genetic          |           0.0145 |          0.0089 |        165 |            165 |            309 |\n",
      "|           1 | Greedy           |           0      |          0      |        165 |            165 |            309 |\n",
      "|           2 | Branch-And-Bound |           0      |          0      |         26 |             26 |             51 |\n",
      "|           2 | BruteForce       |           0      |          0      |         26 |             26 |             51 |\n",
      "|           2 | Dynamic          |           0.0006 |          0.0005 |         26 |             26 |             51 |\n",
      "|           2 | Genetic          |           0.0004 |          0.0005 |         26 |             24 |             47 |\n",
      "|           2 | Greedy           |           0      |          0      |         26 |             23 |             47 |\n",
      "|           3 | Branch-And-Bound |           0.0002 |          0.0005 |        190 |            190 |            150 |\n",
      "|           3 | BruteForce       |           0      |          0      |        190 |            190 |            150 |\n",
      "|           3 | Dynamic          |           0.0044 |          0.0006 |        190 |            190 |            150 |\n",
      "|           3 | Genetic          |           0.0004 |          0.0005 |        190 |            172 |            119 |\n",
      "|           3 | Greedy           |           0      |          0      |        190 |            179 |            146 |\n",
      "|           4 | Branch-And-Bound |           0      |          0      |         50 |             50 |            107 |\n",
      "|           4 | BruteForce       |           0.0006 |          0.0005 |         50 |             50 |            107 |\n",
      "|           4 | Dynamic          |           0.0012 |          0.0004 |         50 |             50 |            107 |\n",
      "|           4 | Genetic          |           0.0014 |          0.0009 |         50 |             50 |            107 |\n",
      "|           4 | Greedy           |           0      |          0      |         50 |             48 |            102 |\n",
      "|           5 | Branch-And-Bound |           0      |          0      |        104 |            104 |            900 |\n",
      "|           5 | BruteForce       |           0.0004 |          0.0005 |        104 |            104 |            900 |\n",
      "|           5 | Dynamic          |           0.0038 |          0.0008 |        104 |            104 |            900 |\n",
      "|           5 | Genetic          |           0.0032 |          0.0008 |        104 |            103 |            898 |\n",
      "|           5 | Greedy           |           0      |          0      |        104 |             97 |            858 |\n",
      "|           6 | Branch-And-Bound |           0.0002 |          0.0004 |        170 |            169 |           1735 |\n",
      "|           6 | BruteForce       |           0.0002 |          0.0005 |        170 |            169 |           1735 |\n",
      "|           6 | Dynamic          |           0.0052 |          0.0008 |        170 |            169 |           1735 |\n",
      "|           6 | Genetic          |           0.001  |          0.0007 |        170 |            169 |           1735 |\n",
      "|           6 | Greedy           |           0      |          0      |        170 |            140 |           1478 |\n",
      "|           7 | Branch-And-Bound |           0.0042 |          0.0008 |        750 |            749 |           1458 |\n",
      "|           7 | BruteForce       |           0.0541 |          0.0147 |        750 |            749 |           1458 |\n",
      "|           7 | Dynamic          |           0.058  |          0.0047 |        750 |            749 |           1458 |\n",
      "|           7 | Genetic          |           0.306  |          0.0365 |        750 |            749 |           1458 |\n",
      "|           7 | Greedy           |           0.0002 |          0.0004 |        750 |            740 |           1441 |\n"
     ]
    }
   ],
   "source": [
    "stat = stat_df.groupby(['benchmark', 'algorithm']).agg({'execution':['mean','std'],\n",
    "                                                        'capacity': 'median',\n",
    "                                                        'optim_weight': 'median',\n",
    "                                                        'optim_profit': 'median'})\n",
    "stat.columns = [ 'execution mean', 'execution std', 'capacity','optim_weight', 'optim_profit']\n",
    "stat = np.around(stat, 4).reset_index()\n",
    "stat = stat.set_index(['benchmark'])\n",
    "print(stat.to_markdown())"
   ]
  }
 ],
 "metadata": {
  "kernelspec": {
   "display_name": "Python 3",
   "language": "python",
   "name": "python3"
  },
  "language_info": {
   "codemirror_mode": {
    "name": "ipython",
    "version": 3
   },
   "file_extension": ".py",
   "mimetype": "text/x-python",
   "name": "python",
   "nbconvert_exporter": "python",
   "pygments_lexer": "ipython3",
   "version": "3.7.7"
  }
 },
 "nbformat": 4,
 "nbformat_minor": 4
}
